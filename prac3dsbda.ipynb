{
 "cells": [
  {
   "cell_type": "code",
   "execution_count": 1,
   "id": "bec80e76-7b73-4d03-a8b3-ee9a6863edd9",
   "metadata": {},
   "outputs": [
    {
     "data": {
      "text/html": [
       "<div>\n",
       "<style scoped>\n",
       "    .dataframe tbody tr th:only-of-type {\n",
       "        vertical-align: middle;\n",
       "    }\n",
       "\n",
       "    .dataframe tbody tr th {\n",
       "        vertical-align: top;\n",
       "    }\n",
       "\n",
       "    .dataframe thead th {\n",
       "        text-align: right;\n",
       "    }\n",
       "</style>\n",
       "<table border=\"1\" class=\"dataframe\">\n",
       "  <thead>\n",
       "    <tr style=\"text-align: right;\">\n",
       "      <th></th>\n",
       "      <th>CustomerID</th>\n",
       "      <th>Genre</th>\n",
       "      <th>Age</th>\n",
       "      <th>Annual_income_(k$)</th>\n",
       "      <th>Spending_score</th>\n",
       "    </tr>\n",
       "  </thead>\n",
       "  <tbody>\n",
       "    <tr>\n",
       "      <th>0</th>\n",
       "      <td>37</td>\n",
       "      <td>male</td>\n",
       "      <td>53</td>\n",
       "      <td>102</td>\n",
       "      <td>20</td>\n",
       "    </tr>\n",
       "    <tr>\n",
       "      <th>1</th>\n",
       "      <td>25</td>\n",
       "      <td>male</td>\n",
       "      <td>42</td>\n",
       "      <td>94</td>\n",
       "      <td>92</td>\n",
       "    </tr>\n",
       "    <tr>\n",
       "      <th>2</th>\n",
       "      <td>36</td>\n",
       "      <td>male</td>\n",
       "      <td>52</td>\n",
       "      <td>124</td>\n",
       "      <td>30</td>\n",
       "    </tr>\n",
       "    <tr>\n",
       "      <th>3</th>\n",
       "      <td>16</td>\n",
       "      <td>male</td>\n",
       "      <td>29</td>\n",
       "      <td>27</td>\n",
       "      <td>25</td>\n",
       "    </tr>\n",
       "    <tr>\n",
       "      <th>4</th>\n",
       "      <td>184</td>\n",
       "      <td>male</td>\n",
       "      <td>47</td>\n",
       "      <td>118</td>\n",
       "      <td>18</td>\n",
       "    </tr>\n",
       "    <tr>\n",
       "      <th>...</th>\n",
       "      <td>...</td>\n",
       "      <td>...</td>\n",
       "      <td>...</td>\n",
       "      <td>...</td>\n",
       "      <td>...</td>\n",
       "    </tr>\n",
       "    <tr>\n",
       "      <th>194</th>\n",
       "      <td>37</td>\n",
       "      <td>male</td>\n",
       "      <td>22</td>\n",
       "      <td>33</td>\n",
       "      <td>16</td>\n",
       "    </tr>\n",
       "    <tr>\n",
       "      <th>195</th>\n",
       "      <td>75</td>\n",
       "      <td>male</td>\n",
       "      <td>30</td>\n",
       "      <td>82</td>\n",
       "      <td>71</td>\n",
       "    </tr>\n",
       "    <tr>\n",
       "      <th>196</th>\n",
       "      <td>18</td>\n",
       "      <td>male</td>\n",
       "      <td>39</td>\n",
       "      <td>85</td>\n",
       "      <td>86</td>\n",
       "    </tr>\n",
       "    <tr>\n",
       "      <th>197</th>\n",
       "      <td>183</td>\n",
       "      <td>female</td>\n",
       "      <td>78</td>\n",
       "      <td>130</td>\n",
       "      <td>30</td>\n",
       "    </tr>\n",
       "    <tr>\n",
       "      <th>198</th>\n",
       "      <td>129</td>\n",
       "      <td>female</td>\n",
       "      <td>52</td>\n",
       "      <td>50</td>\n",
       "      <td>75</td>\n",
       "    </tr>\n",
       "  </tbody>\n",
       "</table>\n",
       "<p>199 rows × 5 columns</p>\n",
       "</div>"
      ],
      "text/plain": [
       "     CustomerID   Genre  Age  Annual_income_(k$)  Spending_score\n",
       "0            37    male   53                 102              20\n",
       "1            25    male   42                  94              92\n",
       "2            36    male   52                 124              30\n",
       "3            16    male   29                  27              25\n",
       "4           184    male   47                 118              18\n",
       "..          ...     ...  ...                 ...             ...\n",
       "194          37    male   22                  33              16\n",
       "195          75    male   30                  82              71\n",
       "196          18    male   39                  85              86\n",
       "197         183  female   78                 130              30\n",
       "198         129  female   52                  50              75\n",
       "\n",
       "[199 rows x 5 columns]"
      ]
     },
     "execution_count": 1,
     "metadata": {},
     "output_type": "execute_result"
    }
   ],
   "source": [
    "import pandas as pd\n",
    "\n",
    "df1 = pd.read_csv(\"Customers.csv\")\n",
    "df1"
   ]
  },
  {
   "cell_type": "code",
   "execution_count": 9,
   "id": "4d07a829-0e63-4e43-9cb0-a5672d11e4c7",
   "metadata": {},
   "outputs": [
    {
     "name": "stdout",
     "output_type": "stream",
     "text": [
      "106.74371859296483\n"
     ]
    }
   ],
   "source": [
    "column_name = 'CustomerID' \n",
    "column_mean = df1[\"CustomerID\"].mean()\n",
    "print(column_mean)"
   ]
  },
  {
   "cell_type": "code",
   "execution_count": 11,
   "id": "5364b6c3-1863-4e3e-a82f-409be0e62187",
   "metadata": {},
   "outputs": [
    {
     "name": "stdout",
     "output_type": "stream",
     "text": [
      "82.84422110552764\n"
     ]
    }
   ],
   "source": [
    "column_name = 'Annual_income_(k$)' \n",
    "column_mean = df1[\"Annual_income_(k$)\"].mean()\n",
    "print(column_mean)"
   ]
  },
  {
   "cell_type": "code",
   "execution_count": 13,
   "id": "a51fd640-cc6b-4d2c-bf30-b0309aba15ef",
   "metadata": {},
   "outputs": [
    {
     "name": "stdout",
     "output_type": "stream",
     "text": [
      "50.120603015075375\n"
     ]
    }
   ],
   "source": [
    "column_name = 'Spending_score' \n",
    "column_mean = df1[\"Spending_score\"].mean()\n",
    "print(column_mean)"
   ]
  },
  {
   "cell_type": "code",
   "execution_count": 19,
   "id": "93cf39b5-d4cc-4505-ab2a-6c9e37952228",
   "metadata": {},
   "outputs": [
    {
     "name": "stdout",
     "output_type": "stream",
     "text": [
      "   CustomerID  Age  Spending_score  Row_Mean\n",
      "0          10   15               5      28.5\n",
      "1          20   25              15      58.5\n",
      "2          30   35              25      33.0\n",
      "3          40   45              35      20.5\n"
     ]
    }
   ],
   "source": [
    "df['Row_Mean'] = df1[['CustomerID', 'Spending_score']].mean(axis=1)\n",
    "\n",
    "print(df)\n"
   ]
  },
  {
   "cell_type": "code",
   "execution_count": 16,
   "id": "d001e6d1-829e-48d8-91e9-70a3219dd155",
   "metadata": {},
   "outputs": [
    {
     "name": "stdout",
     "output_type": "stream",
     "text": [
      "111.0\n"
     ]
    }
   ],
   "source": [
    "column_name = 'CustomerID' \n",
    "column_median = df1[\"CustomerID\"].median()\n",
    "print(column_median)"
   ]
  },
  {
   "cell_type": "code",
   "execution_count": 17,
   "id": "df933364-704c-4626-ba47-9da947a6dfa3",
   "metadata": {},
   "outputs": [
    {
     "name": "stdout",
     "output_type": "stream",
     "text": [
      "48.0\n"
     ]
    }
   ],
   "source": [
    "column_name = 'Spending_score' \n",
    "column_median = df1[\"Spending_score\"].median()\n",
    "print(column_median)"
   ]
  },
  {
   "cell_type": "code",
   "execution_count": 20,
   "id": "68fc0281-6a02-4b9a-8587-8b7f556eccc7",
   "metadata": {},
   "outputs": [
    {
     "name": "stdout",
     "output_type": "stream",
     "text": [
      "   CustomerID  Age  Spending_score  Row_Mean  Row_Median\n",
      "0          10   15               5      28.5        28.5\n",
      "1          20   25              15      58.5        58.5\n",
      "2          30   35              25      33.0        33.0\n",
      "3          40   45              35      20.5        20.5\n"
     ]
    }
   ],
   "source": [
    "df['Row_Median'] = df1[['CustomerID', 'Spending_score']].median(axis=1)\n",
    "\n",
    "print(df)"
   ]
  },
  {
   "cell_type": "code",
   "execution_count": 21,
   "id": "38c3674a-586a-4090-b49e-1694be361fbd",
   "metadata": {},
   "outputs": [
    {
     "name": "stdout",
     "output_type": "stream",
     "text": [
      "0    33\n",
      "Name: Annual_income_(k$), dtype: int64\n"
     ]
    }
   ],
   "source": [
    "column_name = 'Annual_income_(k$)' \n",
    "column_mode = df1[\"Annual_income_(k$)\"].mode()\n",
    "print(column_mode)"
   ]
  },
  {
   "cell_type": "code",
   "execution_count": 24,
   "id": "6200c512-8828-470f-ad5d-fd4f64d21430",
   "metadata": {},
   "outputs": [
    {
     "name": "stdout",
     "output_type": "stream",
     "text": [
      "0    58\n",
      "Name: Age, dtype: int64\n"
     ]
    }
   ],
   "source": [
    "column_name = 'Age' \n",
    "column_mode = df1[\"Age\"].mode()\n",
    "print(column_mode)"
   ]
  },
  {
   "cell_type": "code",
   "execution_count": null,
   "id": "75ed2c8d-76b2-4e1a-b10a-f7b8fe9a9229",
   "metadata": {},
   "outputs": [],
   "source": []
  }
 ],
 "metadata": {
  "kernelspec": {
   "display_name": "Python 3 (ipykernel)",
   "language": "python",
   "name": "python3"
  },
  "language_info": {
   "codemirror_mode": {
    "name": "ipython",
    "version": 3
   },
   "file_extension": ".py",
   "mimetype": "text/x-python",
   "name": "python",
   "nbconvert_exporter": "python",
   "pygments_lexer": "ipython3",
   "version": "3.11.7"
  }
 },
 "nbformat": 4,
 "nbformat_minor": 5
}
