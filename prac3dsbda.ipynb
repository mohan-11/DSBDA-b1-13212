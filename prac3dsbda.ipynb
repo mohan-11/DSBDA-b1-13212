{
 "cells": [
  {
   "cell_type": "markdown",
   "id": "f859648f",
   "metadata": {},
   "source": [
    "                                  Practical No. 3"
   ]
  },
  {
   "cell_type": "markdown",
   "id": "2b2b0ad2",
   "metadata": {},
   "source": [
    "Aim :  Descriptive Statistics - Measures of Central Tendency and variability \n",
    "Perform the following operations on any open source dataset (e.g., data.csv).\n",
    "\n",
    "1. Provide summary statistics (mean, median, minimum, maximum, standard deviation) for \n",
    "a dataset (age, income etc.) with numeric variables grouped by one of the qualitative \n",
    "(categorical) variable. For example, if your categorical variable is age groups and \n",
    "quantitative variable is income, then provide summary statistics of income grouped by the \n",
    "age groups. Create a list that contains a numeric value for each response to the categorical \n",
    "variable.  \n",
    "2. Write a Python program to display some basic statistical details like percentile, mean, \n",
    "standard deviation etc. of the species of ‘Iris-setosa’, ‘Iris-versicolor’ and ‘Iris-versicolor’ \n",
    "of iris.csv dataset. \n",
    " \n",
    " Provide the codes with outputs and explain everything that you do in this step.\n",
    " \n",
    " Code : "
   ]
  },
  {
   "cell_type": "code",
   "execution_count": 1,
   "id": "bec80e76-7b73-4d03-a8b3-ee9a6863edd9",
   "metadata": {},
   "outputs": [
    {
     "data": {
      "text/html": [
       "<div>\n",
       "<style scoped>\n",
       "    .dataframe tbody tr th:only-of-type {\n",
       "        vertical-align: middle;\n",
       "    }\n",
       "\n",
       "    .dataframe tbody tr th {\n",
       "        vertical-align: top;\n",
       "    }\n",
       "\n",
       "    .dataframe thead th {\n",
       "        text-align: right;\n",
       "    }\n",
       "</style>\n",
       "<table border=\"1\" class=\"dataframe\">\n",
       "  <thead>\n",
       "    <tr style=\"text-align: right;\">\n",
       "      <th></th>\n",
       "      <th>CustomerID</th>\n",
       "      <th>Genre</th>\n",
       "      <th>Age</th>\n",
       "      <th>Annual_income_(k$)</th>\n",
       "      <th>Spending_score</th>\n",
       "    </tr>\n",
       "  </thead>\n",
       "  <tbody>\n",
       "    <tr>\n",
       "      <th>0</th>\n",
       "      <td>37</td>\n",
       "      <td>male</td>\n",
       "      <td>53</td>\n",
       "      <td>102</td>\n",
       "      <td>20</td>\n",
       "    </tr>\n",
       "    <tr>\n",
       "      <th>1</th>\n",
       "      <td>25</td>\n",
       "      <td>male</td>\n",
       "      <td>42</td>\n",
       "      <td>94</td>\n",
       "      <td>92</td>\n",
       "    </tr>\n",
       "    <tr>\n",
       "      <th>2</th>\n",
       "      <td>36</td>\n",
       "      <td>male</td>\n",
       "      <td>52</td>\n",
       "      <td>124</td>\n",
       "      <td>30</td>\n",
       "    </tr>\n",
       "    <tr>\n",
       "      <th>3</th>\n",
       "      <td>16</td>\n",
       "      <td>male</td>\n",
       "      <td>29</td>\n",
       "      <td>27</td>\n",
       "      <td>25</td>\n",
       "    </tr>\n",
       "    <tr>\n",
       "      <th>4</th>\n",
       "      <td>184</td>\n",
       "      <td>male</td>\n",
       "      <td>47</td>\n",
       "      <td>118</td>\n",
       "      <td>18</td>\n",
       "    </tr>\n",
       "    <tr>\n",
       "      <th>...</th>\n",
       "      <td>...</td>\n",
       "      <td>...</td>\n",
       "      <td>...</td>\n",
       "      <td>...</td>\n",
       "      <td>...</td>\n",
       "    </tr>\n",
       "    <tr>\n",
       "      <th>194</th>\n",
       "      <td>37</td>\n",
       "      <td>male</td>\n",
       "      <td>22</td>\n",
       "      <td>33</td>\n",
       "      <td>16</td>\n",
       "    </tr>\n",
       "    <tr>\n",
       "      <th>195</th>\n",
       "      <td>75</td>\n",
       "      <td>male</td>\n",
       "      <td>30</td>\n",
       "      <td>82</td>\n",
       "      <td>71</td>\n",
       "    </tr>\n",
       "    <tr>\n",
       "      <th>196</th>\n",
       "      <td>18</td>\n",
       "      <td>male</td>\n",
       "      <td>39</td>\n",
       "      <td>85</td>\n",
       "      <td>86</td>\n",
       "    </tr>\n",
       "    <tr>\n",
       "      <th>197</th>\n",
       "      <td>183</td>\n",
       "      <td>female</td>\n",
       "      <td>78</td>\n",
       "      <td>130</td>\n",
       "      <td>30</td>\n",
       "    </tr>\n",
       "    <tr>\n",
       "      <th>198</th>\n",
       "      <td>129</td>\n",
       "      <td>female</td>\n",
       "      <td>52</td>\n",
       "      <td>50</td>\n",
       "      <td>75</td>\n",
       "    </tr>\n",
       "  </tbody>\n",
       "</table>\n",
       "<p>199 rows × 5 columns</p>\n",
       "</div>"
      ],
      "text/plain": [
       "     CustomerID   Genre  Age  Annual_income_(k$)  Spending_score\n",
       "0            37    male   53                 102              20\n",
       "1            25    male   42                  94              92\n",
       "2            36    male   52                 124              30\n",
       "3            16    male   29                  27              25\n",
       "4           184    male   47                 118              18\n",
       "..          ...     ...  ...                 ...             ...\n",
       "194          37    male   22                  33              16\n",
       "195          75    male   30                  82              71\n",
       "196          18    male   39                  85              86\n",
       "197         183  female   78                 130              30\n",
       "198         129  female   52                  50              75\n",
       "\n",
       "[199 rows x 5 columns]"
      ]
     },
     "execution_count": 1,
     "metadata": {},
     "output_type": "execute_result"
    }
   ],
   "source": [
    "import pandas as pd\n",
    "\n",
    "df1 = pd.read_csv(\"Customers.csv\")\n",
    "df1"
   ]
  },
  {
   "cell_type": "code",
   "execution_count": 2,
   "id": "4d07a829-0e63-4e43-9cb0-a5672d11e4c7",
   "metadata": {},
   "outputs": [
    {
     "name": "stdout",
     "output_type": "stream",
     "text": [
      "106.74371859296483\n"
     ]
    }
   ],
   "source": [
    "column_name = 'CustomerID' \n",
    "column_mean = df1[\"CustomerID\"].mean()\n",
    "print(column_mean)"
   ]
  },
  {
   "cell_type": "code",
   "execution_count": 3,
   "id": "5364b6c3-1863-4e3e-a82f-409be0e62187",
   "metadata": {},
   "outputs": [
    {
     "name": "stdout",
     "output_type": "stream",
     "text": [
      "82.84422110552764\n"
     ]
    }
   ],
   "source": [
    "column_name = 'Annual_income_(k$)' \n",
    "column_mean = df1[\"Annual_income_(k$)\"].mean()\n",
    "print(column_mean)"
   ]
  },
  {
   "cell_type": "code",
   "execution_count": 4,
   "id": "a51fd640-cc6b-4d2c-bf30-b0309aba15ef",
   "metadata": {},
   "outputs": [
    {
     "name": "stdout",
     "output_type": "stream",
     "text": [
      "50.120603015075375\n"
     ]
    }
   ],
   "source": [
    "column_name = 'Spending_score' \n",
    "column_mean = df1[\"Spending_score\"].mean()\n",
    "print(column_mean)"
   ]
  },
  {
   "cell_type": "code",
   "execution_count": 12,
   "id": "93cf39b5-d4cc-4505-ab2a-6c9e37952228",
   "metadata": {},
   "outputs": [
    {
     "name": "stdout",
     "output_type": "stream",
     "text": [
      "     CustomerID   Genre  Age  Annual_income_(k$)  Spending_score  Row_Mean\n",
      "0            37    male   53                 102              20      28.5\n",
      "1            25    male   42                  94              92      58.5\n",
      "2            36    male   52                 124              30      33.0\n",
      "3            16    male   29                  27              25      20.5\n",
      "4           184    male   47                 118              18     101.0\n",
      "..          ...     ...  ...                 ...             ...       ...\n",
      "194          37    male   22                  33              16      26.5\n",
      "195          75    male   30                  82              71      73.0\n",
      "196          18    male   39                  85              86      52.0\n",
      "197         183  female   78                 130              30     106.5\n",
      "198         129  female   52                  50              75     102.0\n",
      "\n",
      "[199 rows x 6 columns]\n"
     ]
    }
   ],
   "source": [
    "df1['Row_Mean'] = df1[['CustomerID', 'Spending_score']].mean(axis=1)\n",
    "\n",
    "print(df1)\n"
   ]
  },
  {
   "cell_type": "code",
   "execution_count": 13,
   "id": "d001e6d1-829e-48d8-91e9-70a3219dd155",
   "metadata": {},
   "outputs": [
    {
     "name": "stdout",
     "output_type": "stream",
     "text": [
      "111.0\n"
     ]
    }
   ],
   "source": [
    "column_name = 'CustomerID' \n",
    "column_median = df1[\"CustomerID\"].median()\n",
    "print(column_median)"
   ]
  },
  {
   "cell_type": "code",
   "execution_count": 14,
   "id": "df933364-704c-4626-ba47-9da947a6dfa3",
   "metadata": {},
   "outputs": [
    {
     "name": "stdout",
     "output_type": "stream",
     "text": [
      "48.0\n"
     ]
    }
   ],
   "source": [
    "column_name = 'Spending_score' \n",
    "column_median = df1[\"Spending_score\"].median()\n",
    "print(column_median)"
   ]
  },
  {
   "cell_type": "code",
   "execution_count": 15,
   "id": "68fc0281-6a02-4b9a-8587-8b7f556eccc7",
   "metadata": {},
   "outputs": [
    {
     "name": "stdout",
     "output_type": "stream",
     "text": [
      "     CustomerID   Genre  Age  Annual_income_(k$)  Spending_score  Row_Mean  \\\n",
      "0            37    male   53                 102              20      28.5   \n",
      "1            25    male   42                  94              92      58.5   \n",
      "2            36    male   52                 124              30      33.0   \n",
      "3            16    male   29                  27              25      20.5   \n",
      "4           184    male   47                 118              18     101.0   \n",
      "..          ...     ...  ...                 ...             ...       ...   \n",
      "194          37    male   22                  33              16      26.5   \n",
      "195          75    male   30                  82              71      73.0   \n",
      "196          18    male   39                  85              86      52.0   \n",
      "197         183  female   78                 130              30     106.5   \n",
      "198         129  female   52                  50              75     102.0   \n",
      "\n",
      "     Row_Median  \n",
      "0          28.5  \n",
      "1          58.5  \n",
      "2          33.0  \n",
      "3          20.5  \n",
      "4         101.0  \n",
      "..          ...  \n",
      "194        26.5  \n",
      "195        73.0  \n",
      "196        52.0  \n",
      "197       106.5  \n",
      "198       102.0  \n",
      "\n",
      "[199 rows x 7 columns]\n"
     ]
    }
   ],
   "source": [
    "df1['Row_Median'] = df1[['CustomerID', 'Spending_score']].median(axis=1)\n",
    "\n",
    "print(df1)"
   ]
  },
  {
   "cell_type": "code",
   "execution_count": 9,
   "id": "38c3674a-586a-4090-b49e-1694be361fbd",
   "metadata": {},
   "outputs": [
    {
     "name": "stdout",
     "output_type": "stream",
     "text": [
      "0    33\n",
      "dtype: int64\n"
     ]
    }
   ],
   "source": [
    "column_name = 'Annual_income_(k$)' \n",
    "column_mode = df1[\"Annual_income_(k$)\"].mode()\n",
    "print(column_mode)"
   ]
  },
  {
   "cell_type": "code",
   "execution_count": 10,
   "id": "6200c512-8828-470f-ad5d-fd4f64d21430",
   "metadata": {},
   "outputs": [
    {
     "name": "stdout",
     "output_type": "stream",
     "text": [
      "0    58\n",
      "dtype: int64\n"
     ]
    }
   ],
   "source": [
    "column_name = 'Age' \n",
    "column_mode = df1[\"Age\"].mode()\n",
    "print(column_mode)"
   ]
  },
  {
   "cell_type": "code",
   "execution_count": 16,
   "id": "75ed2c8d-76b2-4e1a-b10a-f7b8fe9a9229",
   "metadata": {},
   "outputs": [
    {
     "name": "stdout",
     "output_type": "stream",
     "text": [
      "2\n"
     ]
    }
   ],
   "source": [
    "column_name = 'CustomerID' \n",
    "column_min = df1[\"CustomerID\"].min()\n",
    "print(column_min)"
   ]
  },
  {
   "cell_type": "code",
   "execution_count": 17,
   "id": "70e36a2d",
   "metadata": {},
   "outputs": [
    {
     "name": "stdout",
     "output_type": "stream",
     "text": [
      "20\n"
     ]
    }
   ],
   "source": [
    "column_name = 'Age' \n",
    "column_min = df1[\"Age\"].min()\n",
    "print(column_min)"
   ]
  },
  {
   "cell_type": "code",
   "execution_count": 18,
   "id": "9834820e",
   "metadata": {
    "scrolled": true
   },
   "outputs": [
    {
     "name": "stdout",
     "output_type": "stream",
     "text": [
      "     CustomerID   Genre  Age  Annual_income_(k$)  Spending_score  Row_Mean  \\\n",
      "0            37    male   53                 102              20      28.5   \n",
      "1            25    male   42                  94              92      58.5   \n",
      "2            36    male   52                 124              30      33.0   \n",
      "3            16    male   29                  27              25      20.5   \n",
      "4           184    male   47                 118              18     101.0   \n",
      "..          ...     ...  ...                 ...             ...       ...   \n",
      "194          37    male   22                  33              16      26.5   \n",
      "195          75    male   30                  82              71      73.0   \n",
      "196          18    male   39                  85              86      52.0   \n",
      "197         183  female   78                 130              30     106.5   \n",
      "198         129  female   52                  50              75     102.0   \n",
      "\n",
      "     Row_Median  Row_Min  \n",
      "0          28.5       20  \n",
      "1          58.5       25  \n",
      "2          33.0       30  \n",
      "3          20.5       16  \n",
      "4         101.0       18  \n",
      "..          ...      ...  \n",
      "194        26.5       16  \n",
      "195        73.0       71  \n",
      "196        52.0       18  \n",
      "197       106.5       30  \n",
      "198       102.0       75  \n",
      "\n",
      "[199 rows x 8 columns]\n"
     ]
    }
   ],
   "source": [
    "df1['Row_Min'] = df1[['CustomerID', 'Spending_score']].min(axis=1)\n",
    "\n",
    "print(df1)\n"
   ]
  },
  {
   "cell_type": "code",
   "execution_count": 19,
   "id": "9d498bd2",
   "metadata": {},
   "outputs": [
    {
     "name": "stdout",
     "output_type": "stream",
     "text": [
      "11\n"
     ]
    }
   ],
   "source": [
    "column_name = 'Annual_income_(k$)' \n",
    "column_min = df1[\"Annual_income_(k$)\"].min()\n",
    "print(column_min)"
   ]
  },
  {
   "cell_type": "code",
   "execution_count": 20,
   "id": "875410c3",
   "metadata": {},
   "outputs": [
    {
     "name": "stdout",
     "output_type": "stream",
     "text": [
      "2\n"
     ]
    }
   ],
   "source": [
    "column_name = 'CustomerID' \n",
    "column_min = df1[\"CustomerID\"].min()\n",
    "print(column_min)"
   ]
  },
  {
   "cell_type": "code",
   "execution_count": 22,
   "id": "6f3044d1",
   "metadata": {},
   "outputs": [
    {
     "name": "stdout",
     "output_type": "stream",
     "text": [
      "200\n"
     ]
    }
   ],
   "source": [
    "column_name = 'CustomerID' \n",
    "column_max = df1[\"CustomerID\"].max()\n",
    "print(column_max)"
   ]
  },
  {
   "cell_type": "code",
   "execution_count": 23,
   "id": "29bd87db",
   "metadata": {},
   "outputs": [
    {
     "name": "stdout",
     "output_type": "stream",
     "text": [
      "80\n"
     ]
    }
   ],
   "source": [
    "column_name = 'Age' \n",
    "column_max = df1[\"Age\"].max()\n",
    "print(column_max)"
   ]
  },
  {
   "cell_type": "code",
   "execution_count": 24,
   "id": "e0b8dcc8",
   "metadata": {},
   "outputs": [
    {
     "name": "stdout",
     "output_type": "stream",
     "text": [
      "100\n"
     ]
    }
   ],
   "source": [
    "column_name = 'Spending_score' \n",
    "column_max = df1[\"Spending_score\"].max()\n",
    "print(column_max)"
   ]
  },
  {
   "cell_type": "code",
   "execution_count": 25,
   "id": "5a818f22",
   "metadata": {},
   "outputs": [
    {
     "name": "stdout",
     "output_type": "stream",
     "text": [
      "     CustomerID   Genre  Age  Annual_income_(k$)  Spending_score  Row_Mean  \\\n",
      "0            37    male   53                 102              20      28.5   \n",
      "1            25    male   42                  94              92      58.5   \n",
      "2            36    male   52                 124              30      33.0   \n",
      "3            16    male   29                  27              25      20.5   \n",
      "4           184    male   47                 118              18     101.0   \n",
      "..          ...     ...  ...                 ...             ...       ...   \n",
      "194          37    male   22                  33              16      26.5   \n",
      "195          75    male   30                  82              71      73.0   \n",
      "196          18    male   39                  85              86      52.0   \n",
      "197         183  female   78                 130              30     106.5   \n",
      "198         129  female   52                  50              75     102.0   \n",
      "\n",
      "     Row_Median  Row_Min  Row_Max  \n",
      "0          28.5       20       53  \n",
      "1          58.5       25       42  \n",
      "2          33.0       30       52  \n",
      "3          20.5       16       29  \n",
      "4         101.0       18      184  \n",
      "..          ...      ...      ...  \n",
      "194        26.5       16       37  \n",
      "195        73.0       71       75  \n",
      "196        52.0       18       39  \n",
      "197       106.5       30      183  \n",
      "198       102.0       75      129  \n",
      "\n",
      "[199 rows x 9 columns]\n"
     ]
    }
   ],
   "source": [
    "df1['Row_Max'] = df1[['CustomerID', 'Age']].max(axis=1)\n",
    "\n",
    "print(df1)\n"
   ]
  },
  {
   "cell_type": "code",
   "execution_count": 27,
   "id": "05477880",
   "metadata": {},
   "outputs": [
    {
     "name": "stdout",
     "output_type": "stream",
     "text": [
      "59.00419132725263\n"
     ]
    }
   ],
   "source": [
    "column_name = 'CustomerID' \n",
    "column_standard = df1[\"CustomerID\"].std()\n",
    "print(column_standard)"
   ]
  },
  {
   "cell_type": "code",
   "execution_count": 28,
   "id": "e02eb087",
   "metadata": {},
   "outputs": [
    {
     "name": "stdout",
     "output_type": "stream",
     "text": [
      "17.236379758179037\n"
     ]
    }
   ],
   "source": [
    "column_name = 'Age' \n",
    "column_standard = df1[\"Age\"].std()\n",
    "print(column_standard)"
   ]
  },
  {
   "cell_type": "code",
   "execution_count": 29,
   "id": "5c378637",
   "metadata": {},
   "outputs": [
    {
     "name": "stdout",
     "output_type": "stream",
     "text": [
      "30.427186269535365\n"
     ]
    }
   ],
   "source": [
    "column_name = 'Spending_score' \n",
    "column_standard = df1[\"Spending_score\"].std()\n",
    "print(column_standard)"
   ]
  },
  {
   "cell_type": "code",
   "execution_count": 30,
   "id": "835b7fda",
   "metadata": {},
   "outputs": [
    {
     "name": "stdout",
     "output_type": "stream",
     "text": [
      "     CustomerID   Genre  Age  Annual_income_(k$)  Spending_score  Row_Mean  \\\n",
      "0            37    male   53                 102              20      28.5   \n",
      "1            25    male   42                  94              92      58.5   \n",
      "2            36    male   52                 124              30      33.0   \n",
      "3            16    male   29                  27              25      20.5   \n",
      "4           184    male   47                 118              18     101.0   \n",
      "..          ...     ...  ...                 ...             ...       ...   \n",
      "194          37    male   22                  33              16      26.5   \n",
      "195          75    male   30                  82              71      73.0   \n",
      "196          18    male   39                  85              86      52.0   \n",
      "197         183  female   78                 130              30     106.5   \n",
      "198         129  female   52                  50              75     102.0   \n",
      "\n",
      "     Row_Median  Row_Min  Row_Max  Row_Standard  \n",
      "0          28.5       20       53     11.313708  \n",
      "1          58.5       25       42     12.020815  \n",
      "2          33.0       30       52     11.313708  \n",
      "3          20.5       16       29      9.192388  \n",
      "4         101.0       18      184     96.873629  \n",
      "..          ...      ...      ...           ...  \n",
      "194        26.5       16       37     10.606602  \n",
      "195        73.0       71       75     31.819805  \n",
      "196        52.0       18       39     14.849242  \n",
      "197       106.5       30      183     74.246212  \n",
      "198       102.0       75      129     54.447222  \n",
      "\n",
      "[199 rows x 10 columns]\n"
     ]
    }
   ],
   "source": [
    "df1['Row_Standard'] = df1[['CustomerID', 'Age']].std(axis=1)\n",
    "\n",
    "print(df1)"
   ]
  },
  {
   "cell_type": "code",
   "execution_count": 31,
   "id": "f4f0fb0b",
   "metadata": {},
   "outputs": [
    {
     "data": {
      "text/plain": [
       "Genre\n",
       "female    50.097087\n",
       "male      47.635417\n",
       "Name: Age, dtype: float64"
      ]
     },
     "execution_count": 31,
     "metadata": {},
     "output_type": "execute_result"
    }
   ],
   "source": [
    "df1.groupby(['Genre'])['Age'].mean() "
   ]
  },
  {
   "cell_type": "code",
   "execution_count": 34,
   "id": "511f28bb",
   "metadata": {},
   "outputs": [
    {
     "data": {
      "text/plain": [
       "Genre\n",
       "female    86.184466\n",
       "male      79.260417\n",
       "Name: Income, dtype: float64"
      ]
     },
     "execution_count": 34,
     "metadata": {},
     "output_type": "execute_result"
    }
   ],
   "source": [
    "df_u=df1.rename(columns= {'Annual_income_(k$)':'Income'},inplace=False)\n",
    "(df_u.groupby(['Genre']).Income.mean()) "
   ]
  },
  {
   "cell_type": "code",
   "execution_count": 35,
   "id": "0be7e6e0",
   "metadata": {},
   "outputs": [
    {
     "data": {
      "text/html": [
       "<div>\n",
       "<style scoped>\n",
       "    .dataframe tbody tr th:only-of-type {\n",
       "        vertical-align: middle;\n",
       "    }\n",
       "\n",
       "    .dataframe tbody tr th {\n",
       "        vertical-align: top;\n",
       "    }\n",
       "\n",
       "    .dataframe thead th {\n",
       "        text-align: right;\n",
       "    }\n",
       "</style>\n",
       "<table border=\"1\" class=\"dataframe\">\n",
       "  <thead>\n",
       "    <tr style=\"text-align: right;\">\n",
       "      <th></th>\n",
       "      <th>0</th>\n",
       "      <th>1</th>\n",
       "    </tr>\n",
       "  </thead>\n",
       "  <tbody>\n",
       "    <tr>\n",
       "      <th>0</th>\n",
       "      <td>0.0</td>\n",
       "      <td>1.0</td>\n",
       "    </tr>\n",
       "    <tr>\n",
       "      <th>1</th>\n",
       "      <td>0.0</td>\n",
       "      <td>1.0</td>\n",
       "    </tr>\n",
       "    <tr>\n",
       "      <th>2</th>\n",
       "      <td>0.0</td>\n",
       "      <td>1.0</td>\n",
       "    </tr>\n",
       "    <tr>\n",
       "      <th>3</th>\n",
       "      <td>0.0</td>\n",
       "      <td>1.0</td>\n",
       "    </tr>\n",
       "    <tr>\n",
       "      <th>4</th>\n",
       "      <td>0.0</td>\n",
       "      <td>1.0</td>\n",
       "    </tr>\n",
       "    <tr>\n",
       "      <th>...</th>\n",
       "      <td>...</td>\n",
       "      <td>...</td>\n",
       "    </tr>\n",
       "    <tr>\n",
       "      <th>194</th>\n",
       "      <td>0.0</td>\n",
       "      <td>1.0</td>\n",
       "    </tr>\n",
       "    <tr>\n",
       "      <th>195</th>\n",
       "      <td>0.0</td>\n",
       "      <td>1.0</td>\n",
       "    </tr>\n",
       "    <tr>\n",
       "      <th>196</th>\n",
       "      <td>0.0</td>\n",
       "      <td>1.0</td>\n",
       "    </tr>\n",
       "    <tr>\n",
       "      <th>197</th>\n",
       "      <td>1.0</td>\n",
       "      <td>0.0</td>\n",
       "    </tr>\n",
       "    <tr>\n",
       "      <th>198</th>\n",
       "      <td>1.0</td>\n",
       "      <td>0.0</td>\n",
       "    </tr>\n",
       "  </tbody>\n",
       "</table>\n",
       "<p>199 rows × 2 columns</p>\n",
       "</div>"
      ],
      "text/plain": [
       "       0    1\n",
       "0    0.0  1.0\n",
       "1    0.0  1.0\n",
       "2    0.0  1.0\n",
       "3    0.0  1.0\n",
       "4    0.0  1.0\n",
       "..   ...  ...\n",
       "194  0.0  1.0\n",
       "195  0.0  1.0\n",
       "196  0.0  1.0\n",
       "197  1.0  0.0\n",
       "198  1.0  0.0\n",
       "\n",
       "[199 rows x 2 columns]"
      ]
     },
     "execution_count": 35,
     "metadata": {},
     "output_type": "execute_result"
    }
   ],
   "source": [
    "from sklearn import preprocessing \n",
    "enc = preprocessing.OneHotEncoder() \n",
    "enc_df = pd.DataFrame(enc.fit_transform(df1[['Genre']]).toarray()) \n",
    "enc_df "
   ]
  },
  {
   "cell_type": "code",
   "execution_count": 37,
   "id": "8fb5d5ba",
   "metadata": {},
   "outputs": [
    {
     "data": {
      "text/html": [
       "<div>\n",
       "<style scoped>\n",
       "    .dataframe tbody tr th:only-of-type {\n",
       "        vertical-align: middle;\n",
       "    }\n",
       "\n",
       "    .dataframe tbody tr th {\n",
       "        vertical-align: top;\n",
       "    }\n",
       "\n",
       "    .dataframe thead th {\n",
       "        text-align: right;\n",
       "    }\n",
       "</style>\n",
       "<table border=\"1\" class=\"dataframe\">\n",
       "  <thead>\n",
       "    <tr style=\"text-align: right;\">\n",
       "      <th></th>\n",
       "      <th>CustomerID</th>\n",
       "      <th>Genre</th>\n",
       "      <th>Age</th>\n",
       "      <th>Income</th>\n",
       "      <th>Spending_score</th>\n",
       "      <th>Row_Mean</th>\n",
       "      <th>Row_Median</th>\n",
       "      <th>Row_Min</th>\n",
       "      <th>Row_Max</th>\n",
       "      <th>Row_Standard</th>\n",
       "      <th>0</th>\n",
       "      <th>1</th>\n",
       "    </tr>\n",
       "  </thead>\n",
       "  <tbody>\n",
       "    <tr>\n",
       "      <th>0</th>\n",
       "      <td>37</td>\n",
       "      <td>male</td>\n",
       "      <td>53</td>\n",
       "      <td>102</td>\n",
       "      <td>20</td>\n",
       "      <td>28.5</td>\n",
       "      <td>28.5</td>\n",
       "      <td>20</td>\n",
       "      <td>53</td>\n",
       "      <td>11.313708</td>\n",
       "      <td>0.0</td>\n",
       "      <td>1.0</td>\n",
       "    </tr>\n",
       "    <tr>\n",
       "      <th>1</th>\n",
       "      <td>25</td>\n",
       "      <td>male</td>\n",
       "      <td>42</td>\n",
       "      <td>94</td>\n",
       "      <td>92</td>\n",
       "      <td>58.5</td>\n",
       "      <td>58.5</td>\n",
       "      <td>25</td>\n",
       "      <td>42</td>\n",
       "      <td>12.020815</td>\n",
       "      <td>0.0</td>\n",
       "      <td>1.0</td>\n",
       "    </tr>\n",
       "    <tr>\n",
       "      <th>2</th>\n",
       "      <td>36</td>\n",
       "      <td>male</td>\n",
       "      <td>52</td>\n",
       "      <td>124</td>\n",
       "      <td>30</td>\n",
       "      <td>33.0</td>\n",
       "      <td>33.0</td>\n",
       "      <td>30</td>\n",
       "      <td>52</td>\n",
       "      <td>11.313708</td>\n",
       "      <td>0.0</td>\n",
       "      <td>1.0</td>\n",
       "    </tr>\n",
       "    <tr>\n",
       "      <th>3</th>\n",
       "      <td>16</td>\n",
       "      <td>male</td>\n",
       "      <td>29</td>\n",
       "      <td>27</td>\n",
       "      <td>25</td>\n",
       "      <td>20.5</td>\n",
       "      <td>20.5</td>\n",
       "      <td>16</td>\n",
       "      <td>29</td>\n",
       "      <td>9.192388</td>\n",
       "      <td>0.0</td>\n",
       "      <td>1.0</td>\n",
       "    </tr>\n",
       "    <tr>\n",
       "      <th>4</th>\n",
       "      <td>184</td>\n",
       "      <td>male</td>\n",
       "      <td>47</td>\n",
       "      <td>118</td>\n",
       "      <td>18</td>\n",
       "      <td>101.0</td>\n",
       "      <td>101.0</td>\n",
       "      <td>18</td>\n",
       "      <td>184</td>\n",
       "      <td>96.873629</td>\n",
       "      <td>0.0</td>\n",
       "      <td>1.0</td>\n",
       "    </tr>\n",
       "    <tr>\n",
       "      <th>...</th>\n",
       "      <td>...</td>\n",
       "      <td>...</td>\n",
       "      <td>...</td>\n",
       "      <td>...</td>\n",
       "      <td>...</td>\n",
       "      <td>...</td>\n",
       "      <td>...</td>\n",
       "      <td>...</td>\n",
       "      <td>...</td>\n",
       "      <td>...</td>\n",
       "      <td>...</td>\n",
       "      <td>...</td>\n",
       "    </tr>\n",
       "    <tr>\n",
       "      <th>194</th>\n",
       "      <td>37</td>\n",
       "      <td>male</td>\n",
       "      <td>22</td>\n",
       "      <td>33</td>\n",
       "      <td>16</td>\n",
       "      <td>26.5</td>\n",
       "      <td>26.5</td>\n",
       "      <td>16</td>\n",
       "      <td>37</td>\n",
       "      <td>10.606602</td>\n",
       "      <td>0.0</td>\n",
       "      <td>1.0</td>\n",
       "    </tr>\n",
       "    <tr>\n",
       "      <th>195</th>\n",
       "      <td>75</td>\n",
       "      <td>male</td>\n",
       "      <td>30</td>\n",
       "      <td>82</td>\n",
       "      <td>71</td>\n",
       "      <td>73.0</td>\n",
       "      <td>73.0</td>\n",
       "      <td>71</td>\n",
       "      <td>75</td>\n",
       "      <td>31.819805</td>\n",
       "      <td>0.0</td>\n",
       "      <td>1.0</td>\n",
       "    </tr>\n",
       "    <tr>\n",
       "      <th>196</th>\n",
       "      <td>18</td>\n",
       "      <td>male</td>\n",
       "      <td>39</td>\n",
       "      <td>85</td>\n",
       "      <td>86</td>\n",
       "      <td>52.0</td>\n",
       "      <td>52.0</td>\n",
       "      <td>18</td>\n",
       "      <td>39</td>\n",
       "      <td>14.849242</td>\n",
       "      <td>0.0</td>\n",
       "      <td>1.0</td>\n",
       "    </tr>\n",
       "    <tr>\n",
       "      <th>197</th>\n",
       "      <td>183</td>\n",
       "      <td>female</td>\n",
       "      <td>78</td>\n",
       "      <td>130</td>\n",
       "      <td>30</td>\n",
       "      <td>106.5</td>\n",
       "      <td>106.5</td>\n",
       "      <td>30</td>\n",
       "      <td>183</td>\n",
       "      <td>74.246212</td>\n",
       "      <td>1.0</td>\n",
       "      <td>0.0</td>\n",
       "    </tr>\n",
       "    <tr>\n",
       "      <th>198</th>\n",
       "      <td>129</td>\n",
       "      <td>female</td>\n",
       "      <td>52</td>\n",
       "      <td>50</td>\n",
       "      <td>75</td>\n",
       "      <td>102.0</td>\n",
       "      <td>102.0</td>\n",
       "      <td>75</td>\n",
       "      <td>129</td>\n",
       "      <td>54.447222</td>\n",
       "      <td>1.0</td>\n",
       "      <td>0.0</td>\n",
       "    </tr>\n",
       "  </tbody>\n",
       "</table>\n",
       "<p>199 rows × 12 columns</p>\n",
       "</div>"
      ],
      "text/plain": [
       "     CustomerID   Genre  Age  Income  Spending_score  Row_Mean  Row_Median  \\\n",
       "0            37    male   53     102              20      28.5        28.5   \n",
       "1            25    male   42      94              92      58.5        58.5   \n",
       "2            36    male   52     124              30      33.0        33.0   \n",
       "3            16    male   29      27              25      20.5        20.5   \n",
       "4           184    male   47     118              18     101.0       101.0   \n",
       "..          ...     ...  ...     ...             ...       ...         ...   \n",
       "194          37    male   22      33              16      26.5        26.5   \n",
       "195          75    male   30      82              71      73.0        73.0   \n",
       "196          18    male   39      85              86      52.0        52.0   \n",
       "197         183  female   78     130              30     106.5       106.5   \n",
       "198         129  female   52      50              75     102.0       102.0   \n",
       "\n",
       "     Row_Min  Row_Max  Row_Standard    0    1  \n",
       "0         20       53     11.313708  0.0  1.0  \n",
       "1         25       42     12.020815  0.0  1.0  \n",
       "2         30       52     11.313708  0.0  1.0  \n",
       "3         16       29      9.192388  0.0  1.0  \n",
       "4         18      184     96.873629  0.0  1.0  \n",
       "..       ...      ...           ...  ...  ...  \n",
       "194       16       37     10.606602  0.0  1.0  \n",
       "195       71       75     31.819805  0.0  1.0  \n",
       "196       18       39     14.849242  0.0  1.0  \n",
       "197       30      183     74.246212  1.0  0.0  \n",
       "198       75      129     54.447222  1.0  0.0  \n",
       "\n",
       "[199 rows x 12 columns]"
      ]
     },
     "execution_count": 37,
     "metadata": {},
     "output_type": "execute_result"
    }
   ],
   "source": [
    "df_encode =df_u.join(enc_df) \n",
    "df_encode "
   ]
  },
  {
   "cell_type": "code",
   "execution_count": 38,
   "id": "5212633c",
   "metadata": {},
   "outputs": [
    {
     "data": {
      "text/html": [
       "<div>\n",
       "<style scoped>\n",
       "    .dataframe tbody tr th:only-of-type {\n",
       "        vertical-align: middle;\n",
       "    }\n",
       "\n",
       "    .dataframe tbody tr th {\n",
       "        vertical-align: top;\n",
       "    }\n",
       "\n",
       "    .dataframe thead th {\n",
       "        text-align: right;\n",
       "    }\n",
       "</style>\n",
       "<table border=\"1\" class=\"dataframe\">\n",
       "  <thead>\n",
       "    <tr style=\"text-align: right;\">\n",
       "      <th></th>\n",
       "      <th>sepal_length</th>\n",
       "      <th>sepal_width</th>\n",
       "      <th>petal_length</th>\n",
       "      <th>petal_width</th>\n",
       "      <th>species</th>\n",
       "    </tr>\n",
       "  </thead>\n",
       "  <tbody>\n",
       "    <tr>\n",
       "      <th>0</th>\n",
       "      <td>5.1</td>\n",
       "      <td>3.5</td>\n",
       "      <td>1.4</td>\n",
       "      <td>0.2</td>\n",
       "      <td>setosa</td>\n",
       "    </tr>\n",
       "    <tr>\n",
       "      <th>1</th>\n",
       "      <td>4.9</td>\n",
       "      <td>3.0</td>\n",
       "      <td>1.4</td>\n",
       "      <td>0.2</td>\n",
       "      <td>setosa</td>\n",
       "    </tr>\n",
       "    <tr>\n",
       "      <th>2</th>\n",
       "      <td>4.7</td>\n",
       "      <td>3.2</td>\n",
       "      <td>1.3</td>\n",
       "      <td>0.2</td>\n",
       "      <td>setosa</td>\n",
       "    </tr>\n",
       "    <tr>\n",
       "      <th>3</th>\n",
       "      <td>4.6</td>\n",
       "      <td>3.1</td>\n",
       "      <td>1.5</td>\n",
       "      <td>0.2</td>\n",
       "      <td>setosa</td>\n",
       "    </tr>\n",
       "    <tr>\n",
       "      <th>4</th>\n",
       "      <td>5.0</td>\n",
       "      <td>3.6</td>\n",
       "      <td>1.4</td>\n",
       "      <td>0.2</td>\n",
       "      <td>setosa</td>\n",
       "    </tr>\n",
       "    <tr>\n",
       "      <th>...</th>\n",
       "      <td>...</td>\n",
       "      <td>...</td>\n",
       "      <td>...</td>\n",
       "      <td>...</td>\n",
       "      <td>...</td>\n",
       "    </tr>\n",
       "    <tr>\n",
       "      <th>145</th>\n",
       "      <td>6.7</td>\n",
       "      <td>3.0</td>\n",
       "      <td>5.2</td>\n",
       "      <td>2.3</td>\n",
       "      <td>virginica</td>\n",
       "    </tr>\n",
       "    <tr>\n",
       "      <th>146</th>\n",
       "      <td>6.3</td>\n",
       "      <td>2.5</td>\n",
       "      <td>5.0</td>\n",
       "      <td>1.9</td>\n",
       "      <td>virginica</td>\n",
       "    </tr>\n",
       "    <tr>\n",
       "      <th>147</th>\n",
       "      <td>6.5</td>\n",
       "      <td>3.0</td>\n",
       "      <td>5.2</td>\n",
       "      <td>2.0</td>\n",
       "      <td>virginica</td>\n",
       "    </tr>\n",
       "    <tr>\n",
       "      <th>148</th>\n",
       "      <td>6.2</td>\n",
       "      <td>3.4</td>\n",
       "      <td>5.4</td>\n",
       "      <td>2.3</td>\n",
       "      <td>virginica</td>\n",
       "    </tr>\n",
       "    <tr>\n",
       "      <th>149</th>\n",
       "      <td>5.9</td>\n",
       "      <td>3.0</td>\n",
       "      <td>5.1</td>\n",
       "      <td>1.8</td>\n",
       "      <td>virginica</td>\n",
       "    </tr>\n",
       "  </tbody>\n",
       "</table>\n",
       "<p>150 rows × 5 columns</p>\n",
       "</div>"
      ],
      "text/plain": [
       "     sepal_length  sepal_width  petal_length  petal_width    species\n",
       "0             5.1          3.5           1.4          0.2     setosa\n",
       "1             4.9          3.0           1.4          0.2     setosa\n",
       "2             4.7          3.2           1.3          0.2     setosa\n",
       "3             4.6          3.1           1.5          0.2     setosa\n",
       "4             5.0          3.6           1.4          0.2     setosa\n",
       "..            ...          ...           ...          ...        ...\n",
       "145           6.7          3.0           5.2          2.3  virginica\n",
       "146           6.3          2.5           5.0          1.9  virginica\n",
       "147           6.5          3.0           5.2          2.0  virginica\n",
       "148           6.2          3.4           5.4          2.3  virginica\n",
       "149           5.9          3.0           5.1          1.8  virginica\n",
       "\n",
       "[150 rows x 5 columns]"
      ]
     },
     "execution_count": 38,
     "metadata": {},
     "output_type": "execute_result"
    }
   ],
   "source": [
    "import numpy as np\n",
    "import matplotlib.pyplot as plt\n",
    "import pandas as pd \n",
    "from pandas import DataFrame, Series \n",
    "import seaborn as ans\n",
    "data = ans.load_dataset(\"iris\")\n",
    "data"
   ]
  },
  {
   "cell_type": "code",
   "execution_count": 43,
   "id": "bdaf26b2",
   "metadata": {},
   "outputs": [
    {
     "name": "stdout",
     "output_type": "stream",
     "text": [
      "Iris-setosa\n",
      "       sepal_length  sepal_width  petal_length  petal_width\n",
      "count           0.0          0.0           0.0          0.0\n",
      "mean            NaN          NaN           NaN          NaN\n",
      "std             NaN          NaN           NaN          NaN\n",
      "min             NaN          NaN           NaN          NaN\n",
      "25%             NaN          NaN           NaN          NaN\n",
      "50%             NaN          NaN           NaN          NaN\n",
      "75%             NaN          NaN           NaN          NaN\n",
      "max             NaN          NaN           NaN          NaN\n"
     ]
    }
   ],
   "source": [
    "irisSet = (data['species']== 'Iris-setosa') \n",
    "print('Iris-setosa') \n",
    "print(data[irisSet].describe()) "
   ]
  },
  {
   "cell_type": "code",
   "execution_count": 44,
   "id": "44c485e1",
   "metadata": {},
   "outputs": [],
   "source": [
    "irisVer = (data['species']== 'Iris-versicolor') "
   ]
  },
  {
   "cell_type": "code",
   "execution_count": 45,
   "id": "ebedb426",
   "metadata": {},
   "outputs": [
    {
     "name": "stdout",
     "output_type": "stream",
     "text": [
      "Iris-versicolor\n",
      "       sepal_length  sepal_width  petal_length  petal_width\n",
      "count           0.0          0.0           0.0          0.0\n",
      "mean            NaN          NaN           NaN          NaN\n",
      "std             NaN          NaN           NaN          NaN\n",
      "min             NaN          NaN           NaN          NaN\n",
      "25%             NaN          NaN           NaN          NaN\n",
      "50%             NaN          NaN           NaN          NaN\n",
      "75%             NaN          NaN           NaN          NaN\n",
      "max             NaN          NaN           NaN          NaN\n"
     ]
    }
   ],
   "source": [
    "print('Iris-versicolor') \n",
    "print(data[irisVer].describe()) "
   ]
  },
  {
   "cell_type": "code",
   "execution_count": 47,
   "id": "4a4cfb43",
   "metadata": {},
   "outputs": [],
   "source": [
    "irisVir = (data['species']== 'Iris-virginica') "
   ]
  },
  {
   "cell_type": "code",
   "execution_count": 48,
   "id": "e85b2415",
   "metadata": {},
   "outputs": [
    {
     "name": "stdout",
     "output_type": "stream",
     "text": [
      "Iris-virginica\n",
      "       sepal_length  sepal_width  petal_length  petal_width\n",
      "count           0.0          0.0           0.0          0.0\n",
      "mean            NaN          NaN           NaN          NaN\n",
      "std             NaN          NaN           NaN          NaN\n",
      "min             NaN          NaN           NaN          NaN\n",
      "25%             NaN          NaN           NaN          NaN\n",
      "50%             NaN          NaN           NaN          NaN\n",
      "75%             NaN          NaN           NaN          NaN\n",
      "max             NaN          NaN           NaN          NaN\n"
     ]
    }
   ],
   "source": [
    "print('Iris-virginica') \n",
    "print(data[irisVir].describe()) "
   ]
  },
  {
   "cell_type": "markdown",
   "id": "17497023",
   "metadata": {},
   "source": [
    "Name : Mohan Kadambande\n",
    "\n",
    "Roll No. : 13212 (TECO-b1)"
   ]
  }
 ],
 "metadata": {
  "kernelspec": {
   "display_name": "Python 3 (ipykernel)",
   "language": "python",
   "name": "python3"
  },
  "language_info": {
   "codemirror_mode": {
    "name": "ipython",
    "version": 3
   },
   "file_extension": ".py",
   "mimetype": "text/x-python",
   "name": "python",
   "nbconvert_exporter": "python",
   "pygments_lexer": "ipython3",
   "version": "3.9.7"
  }
 },
 "nbformat": 4,
 "nbformat_minor": 5
}
